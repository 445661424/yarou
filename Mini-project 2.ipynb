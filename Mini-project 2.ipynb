{
 "cells": [
  {
   "cell_type": "markdown",
   "metadata": {},
   "source": [
    "<center>\n",
    "<h1>Mini-project 2</h1>\n",
    "<br>\n",
    "<h2>Predictive Analytics using Python (CIS432)</h2>\n",
    "<h3>Simon Business School</h3>\n",
    "<h3>Due date: 2/27/2018 23:55</h3>\n",
    "</center> \n",
    "\n",
    "### Submission Instructions\n",
    "1. The assignment should be submitted in teams of 3 students.\n",
    "2. Discussing solutions with others is allowed.\n",
    "3. Copying solutions is prohibited.\n",
    "4. Late submissions will not be accepted.\n",
    "5. Write your solutions in Jupyter IPython notebooks. Use markdown cells to format your document. Your solutions should be replicable, as it will be executed on the grader's computer.\n",
    "6. Solution files should be uploaded to Blackboard."
   ]
  },
  {
   "cell_type": "markdown",
   "metadata": {},
   "source": [
    "## Mini-project 2\n",
    "\n",
    "__Overview__: In this this assignment you will explore a Python library of your choice and create a tutorial that explains the typical use-cases of the library. \n",
    "\n",
    "__Instructions__: \n",
    "1. The notebook should contain and run code.\n",
    "1. The Python library should not been used in lecture. It could, however, be noted as an optional reading (e.g., any package listed under \"Optional Reading\" in Lecture 3 - part 3). \n",
    "2. The following link contain a comprehensive list of Python packages: \n",
    "[Python repository](https://pypi.python.org/pypi)\n",
    "3. Please inform Zhe (zhe.hong@simon.rochester.edu)  about your choice, and wait for her approval. This coordination is necessary to avoid overlaps between different teams. \n",
    "\n",
    "__Format__: Write your tutorial as a jupyter notebook. The tutorial should be concise, formatted, and contain the following components: \n",
    "1.\tObjective - a paragraph explaining the main objective of the library and the problem it is trying to solve\n",
    "2.\tContext - alternative solutions or packages for solving the problem\n",
    "3.\tInstallation instructions, platform restrictions and dependent libraries (make sure to test your code on different platforms)\n",
    "4.\tMinimal working example (your own example, copy-pasting is not allowed)\n",
    "5.\t2-3 examples of typical use-cases (your own examples)\n",
    "6.\tList other interesting or useful features and functionalities of the library (additional examples are not required)\n",
    "7.\tSummary and personal assessment of the library\n",
    "8.\tReferences\n",
    "\n",
    "__Grading__: The tutorials will be posted online and peer-reviewed by students and TAs. Each student must review and rate 3 other tutorials, addressing the following aspects of the work:\n",
    "1. Clarity (the purpose of the package, installation instructions, explanations, etc.)\n",
    "2. Conciseness\n",
    "3. Design/formatting \n",
    "4. Overall score\n",
    "5. Suggestions for improvement (constructive criticism only)\n",
    "\n",
    "\n"
   ]
  },
  {
   "cell_type": "markdown",
   "metadata": {},
   "source": [
    "# Objective"
   ]
  },
  {
   "cell_type": "markdown",
   "metadata": {},
   "source": [
    "## PyPDF2 \n",
    "\n",
    "* PyPDF2 is a pure-python PDF library, which is built as a PDF toolkit, emphasizing in document generation. \n",
    "\n",
    "    - On PDF pages, following functions are available in this library:\n",
    "        - splitting documents page by page\n",
    "        - merging documents page by page\n",
    "        - cropping pagesmerging multiple pages into a single page\n",
    "        - transforming\n",
    "    <br>\n",
    "    <br>\n",
    "    - On PDF files and their content, mutiple actions listed below are also capable of taken advantage of:\n",
    "        - extracting document information (title, author, …)\n",
    "        - encrypting PDF files\n",
    "        - decrypting PDF files\n",
    "        - viewing options\n",
    "        - passwords\n",
    "        - and more!\n",
    "\n",
    "\n",
    "* By being Pure-Python, it should run on any Python platform without any dependencies on external libraries.\n",
    "\n",
    "\n",
    "* It can also work entirely on StringIO objects rather than file streams, allowing for PDF manipulation in memory. \n",
    "\n",
    "\n",
    "* It is therefore a useful tool for websites that manage or manipulate PDFs.\n"
   ]
  },
  {
   "cell_type": "markdown",
   "metadata": {},
   "source": [
    "\n",
    "* It is based on its previous version called PyPDF at the end of 2011.\n",
    "\n",
    "\n",
    "* The initial impetus was to handle a wider range of input PDF instance.\n",
    "\n",
    "\n",
    "* Neither pyPdf nor PyPDF2 aims to be universal, that is, to provide all possible PDF. "
   ]
  },
  {
   "cell_type": "markdown",
   "metadata": {},
   "source": [
    "# Context"
   ]
  },
  {
   "cell_type": "markdown",
   "metadata": {},
   "source": [
    "   \n",
    "#### PDFMiner is another merthod of processing and obtaining pdf information. \n",
    "\n",
    "* Also a good way to process and manipulate PDF file on python.\n",
    "\n",
    "* It has its own pro and cons compared with PyPDF2.\n",
    "   \n",
    "* Differences between two methods are  addressted in content following:\n",
    " <br>\n",
    " <br>\n",
    "\n",
    "\n",
    "|                           \t| PDFMiner\t |   PyPDF2   |\n",
    "|---------------------------\t|-----\t|----|----------------\t|        \t\n",
    "| Excel   Friendly  \t|   Yes  \t|  No   |            \t\n",
    "| Foreign Language   Friendly           \t| Yes|  No  |            \t\n",
    "| Manipulating pages          \t| No |  Yes  |   \n",
    "| Encryping PDF file       \t| No |  Yes  |   \n",
    "| Enviroment               \t|  Python 2   \t| Python 2 & 3   |            \t\n",
    "| Convert to HTML            \t| Available    \t|  Not Available  |    \n",
    "\n",
    "\n"
   ]
  },
  {
   "cell_type": "markdown",
   "metadata": {},
   "source": [
    "Reference:\n",
    "\n",
    "https://www.zhihu.com/question/31586273\n",
    "https://www.cnblogs.com/pyxiaomangshe/p/7918839.html\n",
    "https://python.libhunt.com/compare-pdfminer-vs-pypdf2\n",
    "http://www.binpress.com/tutorial/manipulating-pdfs-with-python/167"
   ]
  },
  {
   "cell_type": "code",
   "execution_count": 20,
   "metadata": {},
   "outputs": [
    {
     "data": {
      "text/plain": [
       "True"
      ]
     },
     "execution_count": 20,
     "metadata": {},
     "output_type": "execute_result"
    }
   ],
   "source": [
    "from IPython.core.display import display, HTML\n",
    "from IPython.display import HTML\n",
    "\n",
    "import webbrowser\n",
    "\n",
    "webbrowser.open('https://python.libhunt.com/compare-pdfminer-vs-pypdf2')\n",
    "\n"
   ]
  },
  {
   "cell_type": "markdown",
   "metadata": {},
   "source": [
    "* Following pictures are indicating what is going on recent trend of both methods:\n",
    "\n",
    "<center>\n",
    "<img src=\"comparison0.png\"  />\n",
    "<img src=\"comparison1.png\"  />\n",
    "<img src=\"comparison2.png\"  />"
   ]
  },
  {
   "cell_type": "markdown",
   "metadata": {
    "collapsed": true
   },
   "source": [
    "# Summary"
   ]
  },
  {
   "cell_type": "markdown",
   "metadata": {
    "collapsed": true
   },
   "source": [
    "Summary and personal assessment of the library\n",
    "References"
   ]
  },
  {
   "cell_type": "code",
   "execution_count": null,
   "metadata": {
    "collapsed": true
   },
   "outputs": [],
   "source": []
  },
  {
   "cell_type": "code",
   "execution_count": null,
   "metadata": {
    "collapsed": true
   },
   "outputs": [],
   "source": []
  },
  {
   "cell_type": "code",
   "execution_count": null,
   "metadata": {
    "collapsed": true
   },
   "outputs": [],
   "source": []
  }
 ],
 "metadata": {
  "celltoolbar": "Slideshow",
  "kernelspec": {
   "display_name": "Python 3",
   "language": "python",
   "name": "python3"
  },
  "language_info": {
   "codemirror_mode": {
    "name": "ipython",
    "version": 3
   },
   "file_extension": ".py",
   "mimetype": "text/x-python",
   "name": "python",
   "nbconvert_exporter": "python",
   "pygments_lexer": "ipython3",
   "version": "3.6.3"
  }
 },
 "nbformat": 4,
 "nbformat_minor": 2
}
