{
 "cells": [
  {
   "cell_type": "markdown",
   "metadata": {},
   "source": [
    "<center>\n",
    "<h1>Mini-project 2</h1>\n",
    "<br>\n",
    "<h2>Predictive Analytics using Python (CIS432)</h2>\n",
    "<h3>Simon Business School</h3>\n",
    "<h3>Due date: 2/27/2018 23:55</h3>\n",
    "</center> \n",
    "\n",
    "### Submission Instructions\n",
    "1. The assignment should be submitted in teams of 3 students.\n",
    "2. Discussing solutions with others is allowed.\n",
    "3. Copying solutions is prohibited.\n",
    "4. Late submissions will not be accepted.\n",
    "5. Write your solutions in Jupyter IPython notebooks. Use markdown cells to format your document. Your solutions should be replicable, as it will be executed on the grader's computer.\n",
    "6. Solution files should be uploaded to Blackboard."
   ]
  },
  {
   "cell_type": "markdown",
   "metadata": {},
   "source": [
    "# Objective"
   ]
  },
  {
   "cell_type": "markdown",
   "metadata": {},
   "source": [
    "## PyPDF2 \n",
    "\n",
    "* PyPDF2 is a pure-python PDF library, which is built as a PDF toolkit, emphasizing in document generation. \n",
    "\n",
    "    - On PDF pages, following functions are available in this library:\n",
    "        - splitting documents page by page\n",
    "        - merging documents page by page\n",
    "        - cropping pagesmerging multiple pages into a single page\n",
    "        - transforming\n",
    "    <br>\n",
    "    <br>\n",
    "    - On PDF files and their content, mutiple actions listed below are also capable of taken advantage of:\n",
    "        - extracting document information (title, author, …)\n",
    "        - encrypting PDF files\n",
    "        - decrypting PDF files\n",
    "        - viewing options\n",
    "        - passwords\n",
    "        - and more!\n",
    "\n",
    "\n",
    "* By being Pure-Python, it should run on any Python platform without any dependencies on external libraries.\n",
    "\n",
    "\n",
    "* It can also work entirely on StringIO objects rather than file streams, allowing for PDF manipulation in memory. \n",
    "\n",
    "\n",
    "* It is therefore a useful tool for websites that manage or manipulate PDFs.\n"
   ]
  },
  {
   "cell_type": "markdown",
   "metadata": {},
   "source": [
    "\n",
    "* It is based on its previous version called PyPDF at the end of 2011.\n",
    "\n",
    "\n",
    "* The initial impetus was to handle a wider range of input PDF instance.\n",
    "\n",
    "\n",
    "* Neither pyPdf nor PyPDF2 aims to be universal, that is, to provide all possible PDF. \n",
    "\n",
    "\n",
    "* Github: [PyPDF2](https://github.com/mstamy2/PyPDF2)\n",
    "\n",
    "\n",
    "* Homepage: [Homepage](http://mstamy2.github.io/PyPDF2/)"
   ]
  },
  {
   "cell_type": "markdown",
   "metadata": {},
   "source": [
    "# Context"
   ]
  },
  {
   "cell_type": "markdown",
   "metadata": {},
   "source": [
    "   \n",
    "#### PDFMiner is another merthod of processing and obtaining pdf information. \n",
    "\n",
    "* Also a good way to process and manipulate PDF file on python.\n",
    "\n",
    "* It has its own pro and cons comparing with PyPDF2.\n",
    "   \n",
    "* Differences between two methods are listed in the following:\n",
    " <br>\n",
    " <br>\n",
    "\n",
    "\n",
    "|                           \t| PDFMiner\t |   PyPDF2   |\n",
    "|---------------------------\t|-----\t|----|----------------\t|        \t\n",
    "| Excel   Friendly  \t|   Yes  \t|  No   |            \t\n",
    "| Foreign Language   Friendly           \t| Yes|  No  |            \t\n",
    "| Manipulating Pages          \t| No |  Yes  |   \n",
    "| Encryping PDF File       \t| No |  Yes  |   \n",
    "| Environment               \t|  Python 2   \t| Python 2 & 3   |            \t\n",
    "| Converting to HTML            \t| Available    \t|  Not Available  |    \n",
    "\n",
    "\n"
   ]
  },
  {
   "cell_type": "markdown",
   "metadata": {},
   "source": [
    "* PyPDF2 vs PDFMiner -  Performance Comparison\n",
    "<br>\n",
    "See https://python.libhunt.com/compare-pdfminer-vs-pypdf2 for additional performance comparison"
   ]
  },
  {
   "cell_type": "markdown",
   "metadata": {},
   "source": [
    "* Following pictures are indicating what is going on recent trend of both methods:\n",
    "\n",
    "<center>\n",
    "<img src=\"comparison0.jpg\"  />\n",
    "<img src=\"comparison1.jpg\"  />\n",
    "<img src=\"comparison2.jpg\"  />"
   ]
  },
  {
   "cell_type": "markdown",
   "metadata": {},
   "source": [
    "# Installation Instructions"
   ]
  },
  {
   "cell_type": "markdown",
   "metadata": {
    "collapsed": true
   },
   "source": [
    "## Windows\n",
    "1. download and install PyPDF2: http://mstamy2.github.io/PyPDF2/\n",
    "2. from the command prompt run: \"pip install pypdf2\"\n",
    "3. run the test code in the cell below\n",
    "\n",
    "- you may need to run the command prompt as Administrator. For this, search for the command prompt shortcut, right click on it, and select the option \"run as administrator\".\n",
    "- you may also need to manually add to the PATH variable the location of the folders where anaconda and graphviz were installed. See https://www.java.com/en/download/help/path.xml for instructions on adding folders to the PATH variable.\n",
    "- in case \"pip install pypdf2\" not work for you: \n",
    "    * from command prompt type: \"cd [Path you download pyPDF2]\" to go into the directory where the setup.py is\n",
    "    * from command prompt type: \"[Path where you install Anaconda3]\\Anaconda3\\python.exe setup.py install\"\n",
    "\n",
    "## Mac users\n",
    "1. install homebrew: https://brew.sh\n",
    "2. from the terminal run: \"pip install pypdf2\"\n",
    "\n",
    "- in case of the error \"InvocationException: Program terminated with status: -5. stderr follows: dyld: Library not loaded: /usr/lib/libltdl.7.dylib\": \n",
    "    - from the terminal run: \"brew install libtool --universal\"\n",
    "    - from the terminal run: \"brew link libtool\"\n",
    "- in case you of the error \"InvocationException: Program terminated with status: 1. stderr follows: Format: \"pdf\" not recognized.\": \n",
    "     - download and install XQuartz: (https://www.xquartz.org/)"
   ]
  },
  {
   "cell_type": "markdown",
   "metadata": {},
   "source": [
    "Test Code"
   ]
  },
  {
   "cell_type": "code",
   "execution_count": 1,
   "metadata": {},
   "outputs": [
    {
     "name": "stdout",
     "output_type": "stream",
     "text": [
      "C:\\Users\\puddi\\Predictive Analytics Python\\Mini-project 2\n"
     ]
    }
   ],
   "source": [
    "!pwd"
   ]
  },
  {
   "cell_type": "code",
   "execution_count": 2,
   "metadata": {},
   "outputs": [
    {
     "name": "stdout",
     "output_type": "stream",
     "text": [
      "comparison0.jpg\n",
      "comparison1.jpg\n",
      "comparison2.jpg\n",
      "Mini-project 2.ipynb\n",
      "pdf\n"
     ]
    }
   ],
   "source": [
    "!ls"
   ]
  },
  {
   "cell_type": "code",
   "execution_count": 12,
   "metadata": {},
   "outputs": [
    {
     "name": "stdout",
     "output_type": "stream",
     "text": [
      "C:\\Users\\puddi\\Predictive Analytics Python\\Mini-project 2\\pdf\n"
     ]
    }
   ],
   "source": [
    "# Find the folder where you save your pdf files\n",
    "%cd pdf"
   ]
  },
  {
   "cell_type": "code",
   "execution_count": 13,
   "metadata": {},
   "outputs": [
    {
     "name": "stdout",
     "output_type": "stream",
     "text": [
      "Lecture 13 - Clustering.pdf\n",
      "Lecture 15 - Recommendation systems.pdf\n",
      "Lecture 16 - Association rules.pdf\n"
     ]
    }
   ],
   "source": [
    "!ls"
   ]
  },
  {
   "cell_type": "code",
   "execution_count": 22,
   "metadata": {},
   "outputs": [
    {
     "name": "stdout",
     "output_type": "stream",
     "text": [
      "15\n"
     ]
    }
   ],
   "source": [
    "# import modules\n",
    "from PyPDF2 import PdfFileReader, PdfFileWriter\n",
    "\n",
    "# Give a input PDF file\n",
    "readfile = 'Lecture 15 - Recommendation systems.pdf'\n",
    "\n",
    "# obtain a PdfFileReader object\n",
    "pdf_input = PdfFileReader(open(readfile, 'rb'))\n",
    "\n",
    "# get the number of pages of the PDF file\n",
    "page_count = pdf_input.getNumPages()\n",
    "print(page_count)"
   ]
  },
  {
   "cell_type": "markdown",
   "metadata": {},
   "source": [
    "# Minimal Working Example"
   ]
  },
  {
   "cell_type": "code",
   "execution_count": 20,
   "metadata": {},
   "outputs": [
    {
     "name": "stdout",
     "output_type": "stream",
     "text": [
      "Lecture 13 - Clustering.pdf\n",
      "Lecture 15 - Recommendation systems.pdf\n",
      "Lecture 16 - Association rules.pdf\n"
     ]
    }
   ],
   "source": [
    "# List all the pdf files in the folder\n",
    "!ls"
   ]
  },
  {
   "cell_type": "code",
   "execution_count": 25,
   "metadata": {},
   "outputs": [
    {
     "name": "stdout",
     "output_type": "stream",
     "text": [
      "15\n"
     ]
    }
   ],
   "source": [
    "from PyPDF2 import PdfFileReader, PdfFileWriter \n",
    "\n",
    "# Given the name of the input PDF file\n",
    "readfile = 'Lecture 15 - Recommendation systems.pdf'\n",
    "writefile = 'Lecture 15 - Recommendation systems New.pdf'\n",
    "\n",
    "# obtain a PdfFileReader object\n",
    "pdf_input = PdfFileReader(open(readfile, 'rb'))\n",
    "\n",
    "# get the number of pages of the PDF file\n",
    "page_count = pdf_input.getNumPages()\n",
    "print(page_count)\n",
    "\n",
    "# extract selected page from the PDF file\n",
    "page = pdf_input.getPage(6) # set any number between 0-14\n",
    "\n",
    "# obtain a PdfFileWriter object\n",
    "pdf_output = PdfFileWriter()\n",
    "\n",
    "# add the PageObject into PdfFileWriter \n",
    "pdf_output.addPage(page)\n",
    "\n",
    "# export the page as a PDF file\n",
    "pdf_output.write(open(writefile, 'wb'))"
   ]
  },
  {
   "cell_type": "code",
   "execution_count": 26,
   "metadata": {},
   "outputs": [
    {
     "name": "stdout",
     "output_type": "stream",
     "text": [
      "Lecture 13 - Clustering.pdf\n",
      "Lecture 15 - Recommendation systems New.pdf\n",
      "Lecture 15 - Recommendation systems.pdf\n",
      "Lecture 16 - Association rules.pdf\n"
     ]
    }
   ],
   "source": [
    "# New PDF file is saved in the folder\n",
    "!ls"
   ]
  },
  {
   "cell_type": "code",
   "execution_count": 28,
   "metadata": {
    "collapsed": true
   },
   "outputs": [],
   "source": [
    "!rm \"Lecture 15 - Recommendation systems New.pdf\""
   ]
  },
  {
   "cell_type": "markdown",
   "metadata": {},
   "source": [
    "# Typical Use-Cases"
   ]
  },
  {
   "cell_type": "markdown",
   "metadata": {},
   "source": [
    "## Split & Extract PDF pages"
   ]
  },
  {
   "cell_type": "code",
   "execution_count": 30,
   "metadata": {
    "collapsed": true
   },
   "outputs": [],
   "source": [
    "def split(inpdf, outpdf, start_page, end_page=0):\n",
    "    pdf_output = PdfFileWriter()\n",
    "    pdf_input = PdfFileReader(open(inpdf, 'rb'))\n",
    "    \n",
    "    # Check the total pages number\n",
    "    page_count = pdf_input.getNumPages()\n",
    "        \n",
    "    # Extract selected pages and save in a new PDF\n",
    "    # If end page does not mention, extract until the original end page\n",
    "    if end_page == 0:\n",
    "        for i in range(start_page-1, page_count):\n",
    "            pdf_output.addPage(pdf_input.getPage(i))\n",
    "        pdf_output.write(open(outpdf, 'wb'))\n",
    "        print('page: %s-%s'%(start_page,page_count), \"has been extracted from \" + inpdf)\n",
    "    else:\n",
    "        for i in range(start_page-1, end_page):\n",
    "            pdf_output.addPage(pdf_input.getPage(i))\n",
    "        pdf_output.write(open(outpdf, 'wb'))\n",
    "        print('page: %s-%s'%(start_page,end_page), \"has been extracted from \" + inpdf)"
   ]
  },
  {
   "cell_type": "code",
   "execution_count": 31,
   "metadata": {},
   "outputs": [
    {
     "name": "stdout",
     "output_type": "stream",
     "text": [
      "page: 5-28 has been extracted from Lecture 13 - Clustering.pdf\n"
     ]
    }
   ],
   "source": [
    "# Here we want to extract page 5 to the end and save to a new PDF file\n",
    "readFile = 'Lecture 13 - Clustering.pdf'\n",
    "writeFile = 'Clustering - page 5-end.pdf'\n",
    "split(readFile,writeFile,5)"
   ]
  },
  {
   "cell_type": "code",
   "execution_count": 32,
   "metadata": {},
   "outputs": [
    {
     "name": "stdout",
     "output_type": "stream",
     "text": [
      "page: 5-7 has been extracted from Lecture 13 - Clustering.pdf\n"
     ]
    }
   ],
   "source": [
    "# Here we want to extract page 5 to page 7 and save to a new PDF file\n",
    "readFile = 'Lecture 13 - Clustering.pdf'\n",
    "writeFile = 'Clustering - page 5-7.pdf'\n",
    "split(readFile,writeFile,5,7)"
   ]
  },
  {
   "cell_type": "code",
   "execution_count": 33,
   "metadata": {},
   "outputs": [
    {
     "name": "stdout",
     "output_type": "stream",
     "text": [
      "Clustering - page 5-7.pdf\n",
      "Clustering - page 5-end.pdf\n",
      "Lecture 13 - Clustering.pdf\n",
      "Lecture 15 - Recommendation systems.pdf\n",
      "Lecture 16 - Association rules.pdf\n"
     ]
    }
   ],
   "source": [
    "!ls"
   ]
  },
  {
   "cell_type": "code",
   "execution_count": 34,
   "metadata": {
    "collapsed": true
   },
   "outputs": [],
   "source": [
    "!rm \"Clustering - page 5-7.pdf\"\n",
    "!rm \"Clustering - page 5-end.pdf\""
   ]
  },
  {
   "cell_type": "markdown",
   "metadata": {},
   "source": [
    "## Merge PDF Files"
   ]
  },
  {
   "cell_type": "code",
   "execution_count": 36,
   "metadata": {
    "collapsed": true
   },
   "outputs": [],
   "source": [
    "def merge(inpdfList, outpdf):\n",
    "    pdf_output = PdfFileWriter()\n",
    "    \n",
    "    # Merge selected PDF files and save in a new PDF\n",
    "    for inpdf in inpdfList:\n",
    "        pdf_input = PdfFileReader(open(inpdf, 'rb'))\n",
    "        page_count = pdf_input.getNumPages()\n",
    "        print(inpdf, 'Page:' ,page_count)\n",
    "        \n",
    "        for i in range(page_count):\n",
    "            pdf_output.addPage(pdf_input.getPage(i))\n",
    "            \n",
    "        pdf_output.write(open(outpdf, 'wb'))\n",
    "        outpdf_count = pdf_output.getNumPages()\n",
    "        \n",
    "    print(outpdf, 'Page:' ,outpdf_count)\n",
    "    print(len(inpdfList), \"pdf files have been merged in \" + outpdf)"
   ]
  },
  {
   "cell_type": "code",
   "execution_count": 37,
   "metadata": {},
   "outputs": [
    {
     "data": {
      "text/plain": [
       "['Lecture 13 - Clustering.pdf',\n",
       " 'Lecture 15 - Recommendation systems.pdf',\n",
       " 'Lecture 16 - Association rules.pdf']"
      ]
     },
     "execution_count": 37,
     "metadata": {},
     "output_type": "execute_result"
    }
   ],
   "source": [
    "# Now we want to merge all three PDF files together in ONE file\n",
    "pdf_list = !ls\n",
    "pdf_list"
   ]
  },
  {
   "cell_type": "code",
   "execution_count": 38,
   "metadata": {},
   "outputs": [
    {
     "name": "stdout",
     "output_type": "stream",
     "text": [
      "Lecture 13 - Clustering.pdf Page: 28\n",
      "Lecture 15 - Recommendation systems.pdf Page: 15\n",
      "Lecture 16 - Association rules.pdf Page: 13\n",
      "Merged Lecture Notes.pdf Page: 56\n",
      "3 pdf files have been merged in Merged Lecture Notes.pdf\n"
     ]
    }
   ],
   "source": [
    "writeFile = 'Merged Lecture Notes.pdf'\n",
    "merge(pdf_list, writeFile)"
   ]
  },
  {
   "cell_type": "code",
   "execution_count": 39,
   "metadata": {},
   "outputs": [
    {
     "name": "stdout",
     "output_type": "stream",
     "text": [
      "Lecture 13 - Clustering.pdf\n",
      "Lecture 15 - Recommendation systems.pdf\n",
      "Lecture 16 - Association rules.pdf\n",
      "Merged Lecture Notes.pdf\n"
     ]
    }
   ],
   "source": [
    "!ls"
   ]
  },
  {
   "cell_type": "code",
   "execution_count": 40,
   "metadata": {
    "collapsed": true
   },
   "outputs": [],
   "source": [
    "!rm \"Merged Lecture Notes.pdf\""
   ]
  },
  {
   "cell_type": "markdown",
   "metadata": {
    "collapsed": true
   },
   "source": [
    "# Additional Functions"
   ]
  },
  {
   "cell_type": "markdown",
   "metadata": {
    "collapsed": true
   },
   "source": [
    "#### Other interesting or useful features and functionalities of the library:\n",
    "\n",
    "- PdfFileReader: GetPageLayout(), getPageMode(), getXmpMetadata()\n",
    "- PdfFileWriter: addLink(pagenum,pagedest,rect,border=None,fit=’/fit’,*args), removeText(ignoreByteStringObject = False),\n",
    "- Other interesting fuctions:\n",
    "    * Add bookmark to selected pages\n",
    "    * Add page x from a PDF and rotated clockwise 90 degrees\n",
    "    * Add a watermark from another PDF\n",
    "    * Add a PDF page and crop it to different sizes\n",
    "    * Add some Javascript to launch the print window on opening the PDF\n",
    "    * Encrypt your new PDF and add a password"
   ]
  },
  {
   "cell_type": "markdown",
   "metadata": {},
   "source": [
    "# Summary"
   ]
  },
  {
   "cell_type": "markdown",
   "metadata": {},
   "source": [
    "1. Based on functions in PyPDF2 library, we introduce multiple practical ways of manipulating PDF properties on following prospectives:\n",
    "  \n",
    "  - Counting number of page in PDF file\n",
    "  - Adding selected page to a PDF file\n",
    "  - Extracting pages from PDF files\n",
    "  - Merging PDF files to one PDF file\n",
    "<br>\n",
    "<br>\n",
    "2. And other useful functions in PyPDF2.\n",
    "\n",
    "3. We can tell from above content that PyPDF2 is of great use in reality work and life.\n",
    "\n",
    "4. It is definetely one of the most useful package among Python libraries. We are glad we discover and introduce it in this mini-project."
   ]
  },
  {
   "cell_type": "markdown",
   "metadata": {},
   "source": [
    "# Reference"
   ]
  },
  {
   "cell_type": "markdown",
   "metadata": {},
   "source": [
    "1. 话题的优秀回答者 xlzd用户标识Python, and 话题的优秀回答者 Coldwings用户标识Python. “如何利用Python抓取PDF中的某些内容？.” 知乎, 24 June 2015, www.zhihu.com/question/31586273.\n",
    "2. “PDFMiner VS PyPDF2.” PDFMiner vs PyPDF2 | LibHunt, python.libhunt.com/compare-pdfminer-vs-pypdf2.\n",
    "3. “Manipulating PDFs with Python | Python.” Binpress, www.binpress.com/tutorial/manipulating-pdfs-with-python/167.\n",
    "4. “Python 深入浅出 - PyPDF2 处理 PDF 文件.” Python 深入浅出 - PyPDF2 处理 PDF 文件 - CSDN博客, blog.csdn.net/xingxtao/article/details/79056341.\n",
    "5. “使用 PyPDF2 操作 Pdf 文件.” 使用 PyPDF2 操作 Pdf 文件 - CSDN博客, blog.csdn.net/chroming/article/details/77104871.\n",
    "6. mstamy2. “mstamy2/PyPDF2.” GitHub, 27 Dec. 2017, github.com/mstamy2/PyPDF2.\n",
    "7. Xchaoinfo. “Python 分割合并 Pdf · Xchaoinfo/Py-Example-by-Xchaoinfo@9a82162.” GitHub, github.com/xchaoinfo/Py-example-by-xchaoinfo/commit/9a82162244e9d161f65e19de439010852e8bf9d2."
   ]
  },
  {
   "cell_type": "markdown",
   "metadata": {},
   "source": [
    "Reference:\n",
    "\n",
    "* https://www.zhihu.com/question/31586273\n",
    "* https://python.libhunt.com/compare-pdfminer-vs-pypdf2\n",
    "* http://www.binpress.com/tutorial/manipulating-pdfs-with-python/167\n",
    "* http://blog.csdn.net/xingxtao/article/details/79056341\n",
    "* http://blog.csdn.net/chroming/article/details/77104871\n",
    "* https://github.com/mstamy2/PyPDF2\n",
    "* https://github.com/xchaoinfo/Py-example-by-xchaoinfo/commit/9a82162244e9d161f65e19de439010852e8bf9d2"
   ]
  }
 ],
 "metadata": {
  "celltoolbar": "Slideshow",
  "kernelspec": {
   "display_name": "Python 3",
   "language": "python",
   "name": "python3"
  },
  "language_info": {
   "codemirror_mode": {
    "name": "ipython",
    "version": 3
   },
   "file_extension": ".py",
   "mimetype": "text/x-python",
   "name": "python",
   "nbconvert_exporter": "python",
   "pygments_lexer": "ipython3",
   "version": "3.6.3"
  }
 },
 "nbformat": 4,
 "nbformat_minor": 2
}
